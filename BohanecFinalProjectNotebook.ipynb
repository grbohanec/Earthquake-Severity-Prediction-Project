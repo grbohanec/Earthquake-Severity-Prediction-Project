{
 "cells": [
  {
   "cell_type": "code",
   "execution_count": 1,
   "id": "0151106d",
   "metadata": {},
   "outputs": [
    {
     "data": {
      "application/vnd.jupyter.widget-view+json": {
       "model_id": "d37ab65d179b4ad79264990a037aaa61",
       "version_major": 2,
       "version_minor": 0
      },
      "text/plain": [
       "VBox()"
      ]
     },
     "metadata": {},
     "output_type": "display_data"
    },
    {
     "name": "stdout",
     "output_type": "stream",
     "text": [
      "Starting Spark application\n"
     ]
    },
    {
     "data": {
      "text/html": [
       "<table>\n",
       "<tr><th>ID</th><th>YARN Application ID</th><th>Kind</th><th>State</th><th>Spark UI</th><th>Driver log</th><th>User</th><th>Current session?</th></tr><tr><td>4</td><td>application_1718292993751_0005</td><td>pyspark</td><td>idle</td><td><a target=\"_blank\" href=\"http://ip-172-31-72-146.ec2.internal:20888/proxy/application_1718292993751_0005/\" class=\"emr-proxy-link\" emr-resource=\"j-C7C7DWAR6AOA\n",
       "\" application-id=\"application_1718292993751_0005\">Link</a></td><td><a target=\"_blank\" href=\"http://ip-172-31-65-29.ec2.internal:8042/node/containerlogs/container_1718292993751_0005_01_000001/livy\" >Link</a></td><td>None</td><td>✔</td></tr></table>"
      ],
      "text/plain": [
       "<IPython.core.display.HTML object>"
      ]
     },
     "metadata": {},
     "output_type": "display_data"
    },
    {
     "data": {
      "application/vnd.jupyter.widget-view+json": {
       "model_id": "",
       "version_major": 2,
       "version_minor": 0
      },
      "text/plain": [
       "FloatProgress(value=0.0, bar_style='info', description='Progress:', layout=Layout(height='25px', width='50%'),…"
      ]
     },
     "metadata": {},
     "output_type": "display_data"
    },
    {
     "name": "stdout",
     "output_type": "stream",
     "text": [
      "SparkSession available as 'spark'.\n"
     ]
    },
    {
     "data": {
      "application/vnd.jupyter.widget-view+json": {
       "model_id": "",
       "version_major": 2,
       "version_minor": 0
      },
      "text/plain": [
       "FloatProgress(value=0.0, bar_style='info', description='Progress:', layout=Layout(height='25px', width='50%'),…"
      ]
     },
     "metadata": {},
     "output_type": "display_data"
    },
    {
     "name": "stdout",
     "output_type": "stream",
     "text": [
      "Collecting numpy\n",
      "  Downloading numpy-1.26.4-cp39-cp39-manylinux_2_17_x86_64.manylinux2014_x86_64.whl (18.2 MB)\n",
      "Installing collected packages: numpy\n",
      "Successfully installed numpy-1.26.4\n",
      "\n",
      "<SparkContext master=yarn appName=livy-session-4>\n",
      "WARNING: The directory '/home/.cache/pip' or its parent directory is not owned or is not writable by the current user. The cache has been disabled. Check the permissions and owner of that directory. If executing pip with sudo, you should use sudo's -H flag."
     ]
    }
   ],
   "source": [
    "sc.install_pypi_package(\"numpy\")\n",
    "import numpy as np\n",
    "\n",
    "# Importing spark features\n",
    "from pyspark.sql.functions import to_timestamp, year, month, dayofmonth, when\n",
    "from pyspark.ml.feature import StringIndexer, VectorAssembler, IndexToString\n",
    "from pyspark.sql import SparkSession, DataFrame\n",
    "from pyspark.ml.classification import RandomForestClassifier\n",
    "from pyspark.ml.evaluation import MulticlassClassificationEvaluator\n",
    "\n",
    "# Needed to add .config since I had timestamps before 1900-01-01T00:00:00Z\n",
    "spark = SparkSession.builder.appName(\"Earthquake\") \\\n",
    "                            .config(\"spark.sql.parquet.int96RebaseModeInWrite\", \"LEGACY\") \\\n",
    "                            .config(\"spark.sql.catalogImplementation\", \"hive\") \\\n",
    "                            .enableHiveSupport() \\\n",
    "                            .getOrCreate()\n",
    "spark.sparkContext"
   ]
  },
  {
   "cell_type": "code",
   "execution_count": 2,
   "id": "1e0bfc8e",
   "metadata": {},
   "outputs": [
    {
     "data": {
      "application/vnd.jupyter.widget-view+json": {
       "model_id": "62af92c7c8274e9cbcb519cfb7eda6e1",
       "version_major": 2,
       "version_minor": 0
      },
      "text/plain": [
       "VBox()"
      ]
     },
     "metadata": {},
     "output_type": "display_data"
    },
    {
     "data": {
      "application/vnd.jupyter.widget-view+json": {
       "model_id": "",
       "version_major": 2,
       "version_minor": 0
      },
      "text/plain": [
       "FloatProgress(value=0.0, bar_style='info', description='Progress:', layout=Layout(height='25px', width='50%'),…"
      ]
     },
     "metadata": {},
     "output_type": "display_data"
    },
    {
     "name": "stdout",
     "output_type": "stream",
     "text": [
      "root\n",
      " |-- time: timestamp (nullable = true)\n",
      " |-- latitude: double (nullable = true)\n",
      " |-- longitude: double (nullable = true)\n",
      " |-- depth: double (nullable = true)\n",
      " |-- mag: double (nullable = true)\n",
      " |-- magType: string (nullable = true)\n",
      " |-- nst: integer (nullable = true)\n",
      " |-- gap: double (nullable = true)\n",
      " |-- dmin: double (nullable = true)\n",
      " |-- rms: double (nullable = true)\n",
      " |-- net: string (nullable = true)\n",
      " |-- id: string (nullable = true)\n",
      " |-- updated: timestamp (nullable = true)\n",
      " |-- place: string (nullable = true)\n",
      " |-- type: string (nullable = true)\n",
      " |-- horizontalError: double (nullable = true)\n",
      " |-- depthError: double (nullable = true)\n",
      " |-- magError: double (nullable = true)\n",
      " |-- magNst: integer (nullable = true)\n",
      " |-- status: string (nullable = true)\n",
      " |-- locationSource: string (nullable = true)\n",
      " |-- magSource: string (nullable = true)\n",
      "\n",
      "-RECORD 0----------------------------------------------------\n",
      " time            | 2024-06-13 09:48:59.841                   \n",
      " latitude        | 66.5868                                   \n",
      " longitude       | -150.7921                                 \n",
      " depth           | 4.5                                       \n",
      " mag             | 2.7                                       \n",
      " magType         | ml                                        \n",
      " nst             | NULL                                      \n",
      " gap             | NULL                                      \n",
      " dmin            | NULL                                      \n",
      " rms             | 0.84                                      \n",
      " net             | ak                                        \n",
      " id              | ak0247l1bkwu                              \n",
      " updated         | 2024-06-13 09:51:50.239                   \n",
      " place           | 48 km SE of Bettles, Alaska               \n",
      " type            | earthquake                                \n",
      " horizontalError | NULL                                      \n",
      " depthError      | 0.4                                       \n",
      " magError        | NULL                                      \n",
      " magNst          | NULL                                      \n",
      " status          | automatic                                 \n",
      " locationSource  | ak                                        \n",
      " magSource       | ak                                        \n",
      "-RECORD 1----------------------------------------------------\n",
      " time            | 2024-06-13 08:56:11.45                    \n",
      " latitude        | 38.8569984436035                          \n",
      " longitude       | -123.012496948242                         \n",
      " depth           | 5.26000022888184                          \n",
      " mag             | 2.82                                      \n",
      " magType         | md                                        \n",
      " nst             | 55                                        \n",
      " gap             | 54.0                                      \n",
      " dmin            | 0.05301                                   \n",
      " rms             | 0.08                                      \n",
      " net             | nc                                        \n",
      " id              | nc75021717                                \n",
      " updated         | 2024-06-13 09:44:48.301                   \n",
      " place           | 6 km NNE of Cloverdale, CA                \n",
      " type            | earthquake                                \n",
      " horizontalError | 0.2                                       \n",
      " depthError      | 0.560000002                               \n",
      " magError        | 0.15                                      \n",
      " magNst          | 74                                        \n",
      " status          | automatic                                 \n",
      " locationSource  | nc                                        \n",
      " magSource       | nc                                        \n",
      "-RECORD 2----------------------------------------------------\n",
      " time            | 2024-06-13 07:40:37.833                   \n",
      " latitude        | 49.5568                                   \n",
      " longitude       | 153.4488                                  \n",
      " depth           | 192.677                                   \n",
      " mag             | 4.5                                       \n",
      " magType         | mb                                        \n",
      " nst             | 72                                        \n",
      " gap             | 134.0                                     \n",
      " dmin            | 4.443                                     \n",
      " rms             | 0.5                                       \n",
      " net             | us                                        \n",
      " id              | us7000ms38                                \n",
      " updated         | 2024-06-13 07:54:27.04                    \n",
      " place           | 228 km SW of Severo-Kuril’sk, Russia      \n",
      " type            | earthquake                                \n",
      " horizontalError | 11.41                                     \n",
      " depthError      | 8.365                                     \n",
      " magError        | 0.04                                      \n",
      " magNst          | 182                                       \n",
      " status          | reviewed                                  \n",
      " locationSource  | us                                        \n",
      " magSource       | us                                        \n",
      "-RECORD 3----------------------------------------------------\n",
      " time            | 2024-06-13 07:05:45.447                   \n",
      " latitude        | 63.1193                                   \n",
      " longitude       | -151.447                                  \n",
      " depth           | 6.1                                       \n",
      " mag             | 2.7                                       \n",
      " magType         | ml                                        \n",
      " nst             | NULL                                      \n",
      " gap             | NULL                                      \n",
      " dmin            | NULL                                      \n",
      " rms             | 0.42                                      \n",
      " net             | ak                                        \n",
      " id              | ak0247kzvgsw                              \n",
      " updated         | 2024-06-13 07:15:10.04                    \n",
      " place           | 48 km SSE of Denali National Park, Alaska \n",
      " type            | earthquake                                \n",
      " horizontalError | NULL                                      \n",
      " depthError      | 0.3                                       \n",
      " magError        | NULL                                      \n",
      " magNst          | NULL                                      \n",
      " status          | automatic                                 \n",
      " locationSource  | ak                                        \n",
      " magSource       | ak                                        \n",
      "-RECORD 4----------------------------------------------------\n",
      " time            | 2024-06-13 06:28:19.9                     \n",
      " latitude        | 63.1202                                   \n",
      " longitude       | -151.4337                                 \n",
      " depth           | 4.6                                       \n",
      " mag             | 3.4                                       \n",
      " magType         | ml                                        \n",
      " nst             | NULL                                      \n",
      " gap             | NULL                                      \n",
      " dmin            | NULL                                      \n",
      " rms             | 0.94                                      \n",
      " net             | ak                                        \n",
      " id              | ak0247kzewoq                              \n",
      " updated         | 2024-06-13 07:44:01.084                   \n",
      " place           | 49 km SSE of Denali National Park, Alaska \n",
      " type            | earthquake                                \n",
      " horizontalError | NULL                                      \n",
      " depthError      | 0.2                                       \n",
      " magError        | NULL                                      \n",
      " magNst          | NULL                                      \n",
      " status          | reviewed                                  \n",
      " locationSource  | ak                                        \n",
      " magSource       | ak                                        \n",
      "only showing top 5 rows"
     ]
    }
   ],
   "source": [
    "s3_path = \"s3a://csc555earthquake-final-project/Earthquake Data/*.csv\"\n",
    "\n",
    "# Combines all csv files (EarthquakeData1.csv - EarthquakeData51.csv) into one data frame\n",
    "earthquake_df = spark.read.csv(s3_path, header=True, inferSchema=True)\n",
    "earthquake_df.printSchema()\n",
    "earthquake_df.show(5, vertical = True, truncate = False)"
   ]
  },
  {
   "cell_type": "code",
   "execution_count": 3,
   "id": "11ef002c",
   "metadata": {},
   "outputs": [
    {
     "data": {
      "application/vnd.jupyter.widget-view+json": {
       "model_id": "d9c83346aae44e74a2e258f18a471db5",
       "version_major": 2,
       "version_minor": 0
      },
      "text/plain": [
       "VBox()"
      ]
     },
     "metadata": {},
     "output_type": "display_data"
    },
    {
     "data": {
      "application/vnd.jupyter.widget-view+json": {
       "model_id": "",
       "version_major": 2,
       "version_minor": 0
      },
      "text/plain": [
       "FloatProgress(value=0.0, bar_style='info', description='Progress:', layout=Layout(height='25px', width='50%'),…"
      ]
     },
     "metadata": {},
     "output_type": "display_data"
    },
    {
     "name": "stdout",
     "output_type": "stream",
     "text": [
      "The number of rows in the earthquake_df is: 1007810"
     ]
    }
   ],
   "source": [
    "# Count and Print number of rows to ensure everything is good\n",
    "\n",
    "row_count = earthquake_df.count()\n",
    "print(f\"The number of rows in the earthquake_df is: {row_count}\")"
   ]
  },
  {
   "cell_type": "code",
   "execution_count": 4,
   "id": "6d1b6cc3",
   "metadata": {},
   "outputs": [
    {
     "data": {
      "application/vnd.jupyter.widget-view+json": {
       "model_id": "5b923b1061844b2299c0347b9c3781b5",
       "version_major": 2,
       "version_minor": 0
      },
      "text/plain": [
       "VBox()"
      ]
     },
     "metadata": {},
     "output_type": "display_data"
    },
    {
     "data": {
      "application/vnd.jupyter.widget-view+json": {
       "model_id": "",
       "version_major": 2,
       "version_minor": 0
      },
      "text/plain": [
       "FloatProgress(value=0.0, bar_style='info', description='Progress:', layout=Layout(height='25px', width='50%'),…"
      ]
     },
     "metadata": {},
     "output_type": "display_data"
    },
    {
     "name": "stdout",
     "output_type": "stream",
     "text": [
      "The number of rows in the cleaned_earthquake_df is: 1007810"
     ]
    }
   ],
   "source": [
    "# Cleaning Dataset: Dropping duplicate rows\n",
    "\n",
    "cleaned_earthquake_df = earthquake_df.dropDuplicates()\n",
    "row_count_2 = cleaned_earthquake_df.count()\n",
    "print(f\"The number of rows in the cleaned_earthquake_df is: {row_count_2}\")"
   ]
  },
  {
   "cell_type": "code",
   "execution_count": 5,
   "id": "8b49de1b",
   "metadata": {},
   "outputs": [
    {
     "data": {
      "application/vnd.jupyter.widget-view+json": {
       "model_id": "f8da21cbcde64c499b0afc4e9e005824",
       "version_major": 2,
       "version_minor": 0
      },
      "text/plain": [
       "VBox()"
      ]
     },
     "metadata": {},
     "output_type": "display_data"
    },
    {
     "data": {
      "application/vnd.jupyter.widget-view+json": {
       "model_id": "",
       "version_major": 2,
       "version_minor": 0
      },
      "text/plain": [
       "FloatProgress(value=0.0, bar_style='info', description='Progress:', layout=Layout(height='25px', width='50%'),…"
      ]
     },
     "metadata": {},
     "output_type": "display_data"
    }
   ],
   "source": [
    "# Writing cleaned data into new S3 folder, for Amazon Athena\n",
    "\n",
    "cleaned_data_path = \"s3a://csc555earthquake-final-project/cleaned-earthquake-data/\"\n",
    "cleaned_earthquake_df.write.parquet(cleaned_data_path, mode=\"overwrite\")"
   ]
  },
  {
   "cell_type": "code",
   "execution_count": 6,
   "id": "0f53a4b8",
   "metadata": {
    "scrolled": true
   },
   "outputs": [
    {
     "data": {
      "application/vnd.jupyter.widget-view+json": {
       "model_id": "0e51463aaff149ca873cfcae4fcafdcb",
       "version_major": 2,
       "version_minor": 0
      },
      "text/plain": [
       "VBox()"
      ]
     },
     "metadata": {},
     "output_type": "display_data"
    },
    {
     "data": {
      "application/vnd.jupyter.widget-view+json": {
       "model_id": "",
       "version_major": 2,
       "version_minor": 0
      },
      "text/plain": [
       "FloatProgress(value=0.0, bar_style='info', description='Progress:', layout=Layout(height='25px', width='50%'),…"
      ]
     },
     "metadata": {},
     "output_type": "display_data"
    },
    {
     "name": "stdout",
     "output_type": "stream",
     "text": [
      "-RECORD 0----------------------------------------------------\n",
      " time            | 2024-06-13 09:48:59.841                   \n",
      " latitude        | 66.5868                                   \n",
      " longitude       | -150.7921                                 \n",
      " depth           | 4.5                                       \n",
      " mag             | 2.7                                       \n",
      " magType         | ml                                        \n",
      " nst             | NULL                                      \n",
      " gap             | NULL                                      \n",
      " dmin            | NULL                                      \n",
      " rms             | 0.84                                      \n",
      " net             | ak                                        \n",
      " id              | ak0247l1bkwu                              \n",
      " updated         | 2024-06-13 09:51:50.239                   \n",
      " place           | 48 km SE of Bettles, Alaska               \n",
      " type            | earthquake                                \n",
      " horizontalError | NULL                                      \n",
      " depthError      | 0.4                                       \n",
      " magError        | NULL                                      \n",
      " magNst          | NULL                                      \n",
      " status          | automatic                                 \n",
      " locationSource  | ak                                        \n",
      " magSource       | ak                                        \n",
      "-RECORD 1----------------------------------------------------\n",
      " time            | 2024-06-13 08:56:11.45                    \n",
      " latitude        | 38.8569984436035                          \n",
      " longitude       | -123.012496948242                         \n",
      " depth           | 5.26000022888184                          \n",
      " mag             | 2.82                                      \n",
      " magType         | md                                        \n",
      " nst             | 55                                        \n",
      " gap             | 54.0                                      \n",
      " dmin            | 0.05301                                   \n",
      " rms             | 0.08                                      \n",
      " net             | nc                                        \n",
      " id              | nc75021717                                \n",
      " updated         | 2024-06-13 09:44:48.301                   \n",
      " place           | 6 km NNE of Cloverdale, CA                \n",
      " type            | earthquake                                \n",
      " horizontalError | 0.2                                       \n",
      " depthError      | 0.560000002                               \n",
      " magError        | 0.15                                      \n",
      " magNst          | 74                                        \n",
      " status          | automatic                                 \n",
      " locationSource  | nc                                        \n",
      " magSource       | nc                                        \n",
      "-RECORD 2----------------------------------------------------\n",
      " time            | 2024-06-13 07:40:37.833                   \n",
      " latitude        | 49.5568                                   \n",
      " longitude       | 153.4488                                  \n",
      " depth           | 192.677                                   \n",
      " mag             | 4.5                                       \n",
      " magType         | mb                                        \n",
      " nst             | 72                                        \n",
      " gap             | 134.0                                     \n",
      " dmin            | 4.443                                     \n",
      " rms             | 0.5                                       \n",
      " net             | us                                        \n",
      " id              | us7000ms38                                \n",
      " updated         | 2024-06-13 07:54:27.04                    \n",
      " place           | 228 km SW of Severo-Kuril’sk, Russia      \n",
      " type            | earthquake                                \n",
      " horizontalError | 11.41                                     \n",
      " depthError      | 8.365                                     \n",
      " magError        | 0.04                                      \n",
      " magNst          | 182                                       \n",
      " status          | reviewed                                  \n",
      " locationSource  | us                                        \n",
      " magSource       | us                                        \n",
      "-RECORD 3----------------------------------------------------\n",
      " time            | 2024-06-13 07:05:45.447                   \n",
      " latitude        | 63.1193                                   \n",
      " longitude       | -151.447                                  \n",
      " depth           | 6.1                                       \n",
      " mag             | 2.7                                       \n",
      " magType         | ml                                        \n",
      " nst             | NULL                                      \n",
      " gap             | NULL                                      \n",
      " dmin            | NULL                                      \n",
      " rms             | 0.42                                      \n",
      " net             | ak                                        \n",
      " id              | ak0247kzvgsw                              \n",
      " updated         | 2024-06-13 07:15:10.04                    \n",
      " place           | 48 km SSE of Denali National Park, Alaska \n",
      " type            | earthquake                                \n",
      " horizontalError | NULL                                      \n",
      " depthError      | 0.3                                       \n",
      " magError        | NULL                                      \n",
      " magNst          | NULL                                      \n",
      " status          | automatic                                 \n",
      " locationSource  | ak                                        \n",
      " magSource       | ak                                        \n",
      "-RECORD 4----------------------------------------------------\n",
      " time            | 2024-06-13 06:28:19.9                     \n",
      " latitude        | 63.1202                                   \n",
      " longitude       | -151.4337                                 \n",
      " depth           | 4.6                                       \n",
      " mag             | 3.4                                       \n",
      " magType         | ml                                        \n",
      " nst             | NULL                                      \n",
      " gap             | NULL                                      \n",
      " dmin            | NULL                                      \n",
      " rms             | 0.94                                      \n",
      " net             | ak                                        \n",
      " id              | ak0247kzewoq                              \n",
      " updated         | 2024-06-13 07:44:01.084                   \n",
      " place           | 49 km SSE of Denali National Park, Alaska \n",
      " type            | earthquake                                \n",
      " horizontalError | NULL                                      \n",
      " depthError      | 0.2                                       \n",
      " magError        | NULL                                      \n",
      " magNst          | NULL                                      \n",
      " status          | reviewed                                  \n",
      " locationSource  | ak                                        \n",
      " magSource       | ak                                        \n",
      "only showing top 5 rows\n",
      "\n",
      "1007810"
     ]
    }
   ],
   "source": [
    "# Returning results from storing data in Athena\n",
    "\n",
    "s3__athena_query_path = \"s3://csc555earthquake-final-project/athena-query-results/Unsaved/2024/06/13/8f8cba00-45a0-439f-8fd1-e1254f4c009a.csv\"\n",
    "earthquake_data = spark.read.csv(s3_path, header=True, inferSchema=True)\n",
    "earthquake_data.show(5, vertical = True, truncate = False)\n",
    "earthquake_data.count() # Should be equal to 1007810"
   ]
  },
  {
   "cell_type": "code",
   "execution_count": 7,
   "id": "1d46a25b",
   "metadata": {},
   "outputs": [
    {
     "data": {
      "application/vnd.jupyter.widget-view+json": {
       "model_id": "3cb3d31fea0e4583b5e939441bf69abc",
       "version_major": 2,
       "version_minor": 0
      },
      "text/plain": [
       "VBox()"
      ]
     },
     "metadata": {},
     "output_type": "display_data"
    },
    {
     "data": {
      "application/vnd.jupyter.widget-view+json": {
       "model_id": "",
       "version_major": 2,
       "version_minor": 0
      },
      "text/plain": [
       "FloatProgress(value=0.0, bar_style='info', description='Progress:', layout=Layout(height='25px', width='50%'),…"
      ]
     },
     "metadata": {},
     "output_type": "display_data"
    },
    {
     "name": "stdout",
     "output_type": "stream",
     "text": [
      "+--------------------+----+-----+----------+\n",
      "|                time|year|month|dayofmonth|\n",
      "+--------------------+----+-----+----------+\n",
      "|2024-06-13 09:48:...|2024|    6|        13|\n",
      "|2024-06-13 08:56:...|2024|    6|        13|\n",
      "|2024-06-13 07:40:...|2024|    6|        13|\n",
      "|2024-06-13 07:05:...|2024|    6|        13|\n",
      "|2024-06-13 06:28:...|2024|    6|        13|\n",
      "+--------------------+----+-----+----------+\n",
      "only showing top 5 rows"
     ]
    }
   ],
   "source": [
    "# Change time column to have seperate year, month, and dayofmonth\n",
    "\n",
    "earthquake_data = earthquake_data.withColumn(\"year\", year(\"time\"))\n",
    "earthquake_data = earthquake_data.withColumn(\"month\", month(\"time\"))\n",
    "earthquake_data = earthquake_data.withColumn(\"dayofmonth\", dayofmonth(\"time\"))\n",
    "\n",
    "earthquake_data.select(\"time\", \"year\", \"month\", \"dayofmonth\").show(5)"
   ]
  },
  {
   "cell_type": "code",
   "execution_count": 8,
   "id": "8b799de4",
   "metadata": {},
   "outputs": [
    {
     "data": {
      "application/vnd.jupyter.widget-view+json": {
       "model_id": "09ba519e8d494f8a89c888829e5c6714",
       "version_major": 2,
       "version_minor": 0
      },
      "text/plain": [
       "VBox()"
      ]
     },
     "metadata": {},
     "output_type": "display_data"
    },
    {
     "data": {
      "application/vnd.jupyter.widget-view+json": {
       "model_id": "",
       "version_major": 2,
       "version_minor": 0
      },
      "text/plain": [
       "FloatProgress(value=0.0, bar_style='info', description='Progress:', layout=Layout(height='25px', width='50%'),…"
      ]
     },
     "metadata": {},
     "output_type": "display_data"
    },
    {
     "name": "stdout",
     "output_type": "stream",
     "text": [
      "-RECORD 0-----------------------------------------------\n",
      " time            | 2024-06-13 09:48:59.841              \n",
      " latitude        | 66.5868                              \n",
      " longitude       | -150.7921                            \n",
      " depth           | 4.5                                  \n",
      " mag             | 2.7                                  \n",
      " magType         | ml                                   \n",
      " nst             | NULL                                 \n",
      " gap             | NULL                                 \n",
      " dmin            | NULL                                 \n",
      " rms             | 0.84                                 \n",
      " net             | ak                                   \n",
      " id              | ak0247l1bkwu                         \n",
      " updated         | 2024-06-13 09:51:50.239              \n",
      " place           | 48 km SE of Bettles, Alaska          \n",
      " type            | earthquake                           \n",
      " horizontalError | NULL                                 \n",
      " depthError      | 0.4                                  \n",
      " magError        | NULL                                 \n",
      " magNst          | NULL                                 \n",
      " status          | automatic                            \n",
      " locationSource  | ak                                   \n",
      " magSource       | ak                                   \n",
      " year            | 2024                                 \n",
      " month           | 6                                    \n",
      " dayofmonth      | 13                                   \n",
      " category        | minor                                \n",
      "-RECORD 1-----------------------------------------------\n",
      " time            | 2024-06-13 08:56:11.45               \n",
      " latitude        | 38.8569984436035                     \n",
      " longitude       | -123.012496948242                    \n",
      " depth           | 5.26000022888184                     \n",
      " mag             | 2.82                                 \n",
      " magType         | md                                   \n",
      " nst             | 55                                   \n",
      " gap             | 54.0                                 \n",
      " dmin            | 0.05301                              \n",
      " rms             | 0.08                                 \n",
      " net             | nc                                   \n",
      " id              | nc75021717                           \n",
      " updated         | 2024-06-13 09:44:48.301              \n",
      " place           | 6 km NNE of Cloverdale, CA           \n",
      " type            | earthquake                           \n",
      " horizontalError | 0.2                                  \n",
      " depthError      | 0.560000002                          \n",
      " magError        | 0.15                                 \n",
      " magNst          | 74                                   \n",
      " status          | automatic                            \n",
      " locationSource  | nc                                   \n",
      " magSource       | nc                                   \n",
      " year            | 2024                                 \n",
      " month           | 6                                    \n",
      " dayofmonth      | 13                                   \n",
      " category        | minor                                \n",
      "-RECORD 2-----------------------------------------------\n",
      " time            | 2024-06-13 07:40:37.833              \n",
      " latitude        | 49.5568                              \n",
      " longitude       | 153.4488                             \n",
      " depth           | 192.677                              \n",
      " mag             | 4.5                                  \n",
      " magType         | mb                                   \n",
      " nst             | 72                                   \n",
      " gap             | 134.0                                \n",
      " dmin            | 4.443                                \n",
      " rms             | 0.5                                  \n",
      " net             | us                                   \n",
      " id              | us7000ms38                           \n",
      " updated         | 2024-06-13 07:54:27.04               \n",
      " place           | 228 km SW of Severo-Kuril’sk, Russia \n",
      " type            | earthquake                           \n",
      " horizontalError | 11.41                                \n",
      " depthError      | 8.365                                \n",
      " magError        | 0.04                                 \n",
      " magNst          | 182                                  \n",
      " status          | reviewed                             \n",
      " locationSource  | us                                   \n",
      " magSource       | us                                   \n",
      " year            | 2024                                 \n",
      " month           | 6                                    \n",
      " dayofmonth      | 13                                   \n",
      " category        | light                                \n",
      "only showing top 3 rows"
     ]
    }
   ],
   "source": [
    "# Create classification names\n",
    "\n",
    "earthquake_data = earthquake_data.withColumn(\"category\",\n",
    "    when(earthquake_data.mag < 4.0, \"minor\")\n",
    "    .when((earthquake_data.mag >= 4.0) & (earthquake_data.mag < 6.0), \"light\")\n",
    "    .when((earthquake_data.mag >= 6.0) & (earthquake_data.mag < 7.0), \"moderate\")\n",
    "    .otherwise(\"strong\")\n",
    ")\n",
    "\n",
    "earthquake_data.show(3, vertical = True, truncate = False)"
   ]
  },
  {
   "cell_type": "code",
   "execution_count": 9,
   "id": "e1a622a6",
   "metadata": {},
   "outputs": [
    {
     "data": {
      "application/vnd.jupyter.widget-view+json": {
       "model_id": "06ecae2a60a34df9a5f2ea6971c3de40",
       "version_major": 2,
       "version_minor": 0
      },
      "text/plain": [
       "VBox()"
      ]
     },
     "metadata": {},
     "output_type": "display_data"
    },
    {
     "data": {
      "application/vnd.jupyter.widget-view+json": {
       "model_id": "",
       "version_major": 2,
       "version_minor": 0
      },
      "text/plain": [
       "FloatProgress(value=0.0, bar_style='info', description='Progress:', layout=Layout(height='25px', width='50%'),…"
      ]
     },
     "metadata": {},
     "output_type": "display_data"
    },
    {
     "name": "stdout",
     "output_type": "stream",
     "text": [
      "+--------------------------------------------------------------------------------------------+-----+\n",
      "|features                                                                                    |label|\n",
      "+--------------------------------------------------------------------------------------------+-----+\n",
      "|[38.8569984436035,-123.012496948242,5.26000022888184,55.0,54.0,0.05301,0.08,2024.0,6.0,13.0]|1.0  |\n",
      "|[49.5568,153.4488,192.677,72.0,134.0,4.443,0.5,2024.0,6.0,13.0]                             |0.0  |\n",
      "|[55.485,162.715,49.112,117.0,94.0,3.43,0.9,2024.0,6.0,13.0]                                 |0.0  |\n",
      "|[-24.2194,179.9965,512.568,33.0,81.0,5.338,0.75,2024.0,6.0,13.0]                            |0.0  |\n",
      "|[-18.91,-172.7208,10.0,34.0,100.0,2.648,1.64,2024.0,6.0,13.0]                               |0.0  |\n",
      "+--------------------------------------------------------------------------------------------+-----+\n",
      "only showing top 5 rows"
     ]
    }
   ],
   "source": [
    "# Index the label column\n",
    "indexer = StringIndexer(inputCol=\"category\", outputCol=\"label\")\n",
    "indexer_model = indexer.fit(earthquake_data)\n",
    "indexed_data = indexer.fit(earthquake_data).transform(earthquake_data)\n",
    "\n",
    "feature_columns = [\"latitude\", \"longitude\", \"depth\", \"nst\", \"gap\", \"dmin\", \"rms\", \"year\", \"month\", \"dayofmonth\"]\n",
    "assembler = VectorAssembler(inputCols=feature_columns, outputCol=\"features\", handleInvalid=\"skip\")\n",
    "prepared_data = assembler.transform(indexed_data)\n",
    "\n",
    "# Show a sample of the prepared data\n",
    "prepared_data.select(\"features\", \"label\").show(5, truncate = False)"
   ]
  },
  {
   "cell_type": "code",
   "execution_count": 10,
   "id": "bd9defd8",
   "metadata": {},
   "outputs": [
    {
     "data": {
      "application/vnd.jupyter.widget-view+json": {
       "model_id": "971f91aa1dda4c9fb41a0bc83f3bb272",
       "version_major": 2,
       "version_minor": 0
      },
      "text/plain": [
       "VBox()"
      ]
     },
     "metadata": {},
     "output_type": "display_data"
    },
    {
     "data": {
      "application/vnd.jupyter.widget-view+json": {
       "model_id": "",
       "version_major": 2,
       "version_minor": 0
      },
      "text/plain": [
       "FloatProgress(value=0.0, bar_style='info', description='Progress:', layout=Layout(height='25px', width='50%'),…"
      ]
     },
     "metadata": {},
     "output_type": "display_data"
    }
   ],
   "source": [
    "# Split the data into training and test sets\n",
    "train_data, test_data = prepared_data.randomSplit([0.8, 0.2], seed=1242002)"
   ]
  },
  {
   "cell_type": "code",
   "execution_count": 11,
   "id": "1b149a40",
   "metadata": {},
   "outputs": [
    {
     "data": {
      "application/vnd.jupyter.widget-view+json": {
       "model_id": "f139fad20c07496898d394c47da64392",
       "version_major": 2,
       "version_minor": 0
      },
      "text/plain": [
       "VBox()"
      ]
     },
     "metadata": {},
     "output_type": "display_data"
    },
    {
     "data": {
      "application/vnd.jupyter.widget-view+json": {
       "model_id": "",
       "version_major": 2,
       "version_minor": 0
      },
      "text/plain": [
       "FloatProgress(value=0.0, bar_style='info', description='Progress:', layout=Layout(height='25px', width='50%'),…"
      ]
     },
     "metadata": {},
     "output_type": "display_data"
    },
    {
     "name": "stdout",
     "output_type": "stream",
     "text": [
      "-RECORD 0----------------------------------------------------------------------------------------------\n",
      " features       | [19.3721,-64.6825,83.0,3.0,346.0,1.6951,0.35,2018.0,6.0,1.0]                         \n",
      " probability    | [0.04584271759964734,0.9538616676077097,2.7520678994681863E-4,2.0408002696123674E-5] \n",
      " prediction     | 1.0                                                                                  \n",
      " predictedLabel | minor                                                                                \n",
      "-RECORD 1----------------------------------------------------------------------------------------------\n",
      " features       | [19.4025002,-155.2716675,1.62,13.0,79.0,0.0068,0.15,2018.0,6.0,1.0]                  \n",
      " probability    | [0.034568207946584675,0.9651473286467779,2.446227891041416E-4,3.984061753323502E-5]  \n",
      " prediction     | 1.0                                                                                  \n",
      " predictedLabel | minor                                                                                \n",
      "-RECORD 2----------------------------------------------------------------------------------------------\n",
      " features       | [19.409,-155.2675,0.62,24.0,46.0,0.007823,0.08,2018.0,6.0,1.0]                       \n",
      " probability    | [0.034568207946584675,0.9651473286467779,2.446227891041416E-4,3.984061753323502E-5]  \n",
      " prediction     | 1.0                                                                                  \n",
      " predictedLabel | minor                                                                                \n",
      "-RECORD 3----------------------------------------------------------------------------------------------\n",
      " features       | [19.2198334,-155.2306671,47.88,14.0,219.0,0.06134,0.2,2018.0,6.0,1.0]                \n",
      " probability    | [0.035028509369663764,0.9646768286011225,2.562299417386132E-4,3.843208747520359E-5]  \n",
      " prediction     | 1.0                                                                                  \n",
      " predictedLabel | minor                                                                                \n",
      "-RECORD 4----------------------------------------------------------------------------------------------\n",
      " features       | [19.4091666666667,-155.271166666667,0.5,27.0,39.0,0.01105,0.11,2018.0,6.0,1.0]       \n",
      " probability    | [0.034568207946584675,0.9651473286467779,2.446227891041416E-4,3.984061753323502E-5]  \n",
      " prediction     | 1.0                                                                                  \n",
      " predictedLabel | minor                                                                                \n",
      "only showing top 5 rows"
     ]
    }
   ],
   "source": [
    "# Train the Random Forest model\n",
    "dt = RandomForestClassifier(labelCol=\"label\", featuresCol=\"features\", probabilityCol=\"probability\")\n",
    "dt_model = dt.fit(train_data)\n",
    "\n",
    "# Make predictions\n",
    "predictions = dt_model.transform(test_data)\n",
    "\n",
    "label_converter = IndexToString(inputCol=\"prediction\", outputCol=\"predictedLabel\", labels=indexer_model.labels)\n",
    "converted_predictions = label_converter.transform(predictions)\n",
    "\n",
    "converted_predictions.select(\"features\", \"probability\", \"prediction\", \"predictedLabel\").show(5, vertical=True, truncate = False)"
   ]
  },
  {
   "cell_type": "code",
   "execution_count": 12,
   "id": "41ee5e24",
   "metadata": {},
   "outputs": [
    {
     "data": {
      "application/vnd.jupyter.widget-view+json": {
       "model_id": "42e7f437c8f947b6a5b3d376a764f33c",
       "version_major": 2,
       "version_minor": 0
      },
      "text/plain": [
       "VBox()"
      ]
     },
     "metadata": {},
     "output_type": "display_data"
    },
    {
     "data": {
      "application/vnd.jupyter.widget-view+json": {
       "model_id": "",
       "version_major": 2,
       "version_minor": 0
      },
      "text/plain": [
       "FloatProgress(value=0.0, bar_style='info', description='Progress:', layout=Layout(height='25px', width='50%'),…"
      ]
     },
     "metadata": {},
     "output_type": "display_data"
    },
    {
     "name": "stdout",
     "output_type": "stream",
     "text": [
      "-RECORD 0--------------------------------------------------------------------------------------------\n",
      " features       | [35.6895,139.6917,10.0,30.0,90.0,0.5,0.1,2028.0,6.0,13.0]                          \n",
      " probability    | [0.9179719324878892,0.07687383560140351,0.004361845088357927,7.923868223493101E-4] \n",
      " predictedLabel | light"
     ]
    }
   ],
   "source": [
    "# Probability of Earthquakes at Shinjuku, Tokyo, Japan by June 13, 2028\n",
    "\n",
    "new_data = spark.createDataFrame([\n",
    "    (35.6895, 139.6917, 10.0, 30, 90.0, 0.5, 0.1, 2028, 6, 13)\n",
    "], [\"latitude\", \"longitude\", \"depth\", \"nst\", \"gap\", \"dmin\", \"rms\", \"year\", \"month\", \"dayofmonth\"])\n",
    "\n",
    "new_data_prepared = assembler.transform(new_data)\n",
    "new_predictions = dt_model.transform(new_data_prepared)\n",
    "new_converted_predictions = label_converter.transform(new_predictions)\n",
    "new_converted_predictions.select(\"features\", \"probability\", \"predictedLabel\").show(vertical=True, truncate=False)\n",
    "\n",
    "# The most likely category for the biggest earthquake at Shinjuku by June 13, 2028 will be a light one (4.0 and 6.0)"
   ]
  },
  {
   "cell_type": "code",
   "execution_count": 13,
   "id": "966f4ef4",
   "metadata": {},
   "outputs": [
    {
     "data": {
      "application/vnd.jupyter.widget-view+json": {
       "model_id": "1808a3efd847464badbc7d65418f5403",
       "version_major": 2,
       "version_minor": 0
      },
      "text/plain": [
       "VBox()"
      ]
     },
     "metadata": {},
     "output_type": "display_data"
    },
    {
     "data": {
      "application/vnd.jupyter.widget-view+json": {
       "model_id": "",
       "version_major": 2,
       "version_minor": 0
      },
      "text/plain": [
       "FloatProgress(value=0.0, bar_style='info', description='Progress:', layout=Layout(height='25px', width='50%'),…"
      ]
     },
     "metadata": {},
     "output_type": "display_data"
    },
    {
     "name": "stdout",
     "output_type": "stream",
     "text": [
      "Test Accuracy = 0.9642747237375857\n",
      "Precision = 0.9632559857810964\n",
      "Recall = 0.9642747237375856\n",
      "F1 Score = 0.9625111307856469"
     ]
    }
   ],
   "source": [
    "# Evaluate the model\n",
    "evaluator = MulticlassClassificationEvaluator(labelCol=\"label\", predictionCol=\"prediction\", metricName=\"accuracy\")\n",
    "accuracy = evaluator.evaluate(predictions)\n",
    "print(f\"Test Accuracy = {accuracy}\")\n",
    "\n",
    "# Evaluate other metrics\n",
    "precision = MulticlassClassificationEvaluator(labelCol=\"label\", predictionCol=\"prediction\", metricName=\"weightedPrecision\").evaluate(predictions)\n",
    "recall = MulticlassClassificationEvaluator(labelCol=\"label\", predictionCol=\"prediction\", metricName=\"weightedRecall\").evaluate(predictions)\n",
    "f1 = MulticlassClassificationEvaluator(labelCol=\"label\", predictionCol=\"prediction\", metricName=\"f1\").evaluate(predictions)\n",
    "print(f\"Precision = {precision}\")\n",
    "print(f\"Recall = {recall}\")\n",
    "print(f\"F1 Score = {f1}\")"
   ]
  }
 ],
 "metadata": {
  "kernelspec": {
   "display_name": "PySpark",
   "language": "python",
   "name": "pysparkkernel"
  },
  "language_info": {
   "codemirror_mode": {
    "name": "python",
    "version": 3
   },
   "file_extension": ".py",
   "mimetype": "text/x-python",
   "name": "pyspark",
   "pygments_lexer": "python3"
  }
 },
 "nbformat": 4,
 "nbformat_minor": 5
}
